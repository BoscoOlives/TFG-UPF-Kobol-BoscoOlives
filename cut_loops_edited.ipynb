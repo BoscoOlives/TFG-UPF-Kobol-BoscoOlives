{
 "cells": [
  {
   "cell_type": "markdown",
   "id": "8202c13c",
   "metadata": {},
   "source": [
    "### Este documento es una versión editada del documento original:\n",
    "    https://github.com/gcgus/Kobologia/blob/main/code/Koblog%C3%ADa_Bucles.ipynb\n",
    "### Creado por Gustavo Castelo en 2022.\n",
    "### Editado por Bosco Olives en 2023."
   ]
  },
  {
   "cell_type": "code",
   "execution_count": null,
   "id": "c16a930e",
   "metadata": {},
   "outputs": [],
   "source": [
    "import os\n",
    "import numpy as np\n",
    "import librosa\n",
    "from scipy.io import wavfile"
   ]
  },
  {
   "cell_type": "markdown",
   "id": "80def73b",
   "metadata": {},
   "source": [
    "# Libreta utilizada para la creción de bucles a partir de muestras de sonido"
   ]
  },
  {
   "cell_type": "code",
   "execution_count": null,
   "id": "da922b4e",
   "metadata": {},
   "outputs": [],
   "source": [
    "path = 'path/to/audios'\n"
   ]
  },
  {
   "cell_type": "code",
   "execution_count": null,
   "id": "bf0e6347",
   "metadata": {},
   "outputs": [],
   "source": [
    "dir = \"cut_synthesized\" #carpeta en que se crearan los nuevos audios\n",
    "\n",
    "if not os.path.exists(dir):\n",
    "    os.mkdir(dir)\n",
    "\n",
    "for folder in os.listdir(path):\n",
    "    folder_path = os.path.join(path, folder)\n",
    "    if os.path.isdir(folder_path):\n",
    "        cut_folder_path = os.path.join(dir, folder)\n",
    "        if not os.path.exists(cut_folder_path): #si no existe la carpeta dir se crea una con ese nombre\n",
    "            os.mkdir(cut_folder_path)\n",
    "        \n",
    "        for f in os.listdir(folder_path):\n",
    "            file_path = os.path.join(folder_path, f)\n",
    "            \n",
    "            data, sr = librosa.load(file_path, sr=48000) #substituir con el sampleRate adecuado\n",
    "            \n",
    "            init = 0.5\n",
    "            end = 0.9\n",
    "            dur = end - init\n",
    "            data_trim = data[int(init * sr):int(end * sr)]\n",
    "            \n",
    "            zero_crosses = np.nonzero(np.diff(data_trim > 0))[0]\n",
    "            \n",
    "            if len(zero_crosses) > 0:\n",
    "                minr = 100000\n",
    "                mini = 0\n",
    "                wind = 10\n",
    "\n",
    "                for i in range(len(zero_crosses)):\n",
    "                    if data_trim[zero_crosses[i] + 1] > 0:\n",
    "                        zero_crosses = zero_crosses[i:]\n",
    "                        break\n",
    "\n",
    "                for i in range(1, len(zero_crosses)):\n",
    "                    if zero_crosses[i] + wind > len(data_trim):\n",
    "                        break\n",
    "\n",
    "                    rest = np.mean(np.abs(data_trim[zero_crosses[0]:zero_crosses[0] + wind] - data_trim[zero_crosses[i]:zero_crosses[i] + wind]))\n",
    "\n",
    "                    if rest < minr:\n",
    "                        minr = rest\n",
    "                        mini = i\n",
    "\n",
    "                data_zero = data_trim[zero_crosses[0]:zero_crosses[mini]]\n",
    "                wdur = 1\n",
    "                loop = np.tile(data_zero, round((wdur * sr) / len(data_zero)))\n",
    "\n",
    "                output_file_path = os.path.join(cut_folder_path, f)\n",
    "                wavfile.write(output_file_path, sr, data_zero)\n",
    "            else:\n",
    "                print(\"No se encontraron cruces por cero en el archivo:\", file_path)\n"
   ]
  }
 ],
 "metadata": {
  "kernelspec": {
   "display_name": "Python 3 (ipykernel)",
   "language": "python",
   "name": "python3"
  },
  "language_info": {
   "codemirror_mode": {
    "name": "ipython",
    "version": 3
   },
   "file_extension": ".py",
   "mimetype": "text/x-python",
   "name": "python",
   "nbconvert_exporter": "python",
   "pygments_lexer": "ipython3",
   "version": "3.8.10"
  }
 },
 "nbformat": 4,
 "nbformat_minor": 5
}
